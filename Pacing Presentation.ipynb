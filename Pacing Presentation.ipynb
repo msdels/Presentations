{
 "metadata": {
  "name": "",
  "signature": "sha256:2bed684893bd98141976ea918a0449cbc9df53fcd78f3976632f9ac0cc89e9c6"
 },
 "nbformat": 3,
 "nbformat_minor": 0,
 "worksheets": [
  {
   "cells": [
    {
     "cell_type": "markdown",
     "metadata": {
      "internals": {
       "slide_helper": "subslide_end",
       "slide_type": "subslide"
      },
      "slide_helper": "slide_end",
      "slideshow": {
       "slide_type": "slide"
      }
     },
     "source": [
      "# Dynamic Control for Purchasing of Online Advertisements\n",
      "\n",
      "\n",
      "### By Michael Els\n",
      "\n",
      "\n",
      "### 10/07/2014\n",
      "\n",
      "\n",
      "\n",
      "\n",
      "\n",
      "![logo](maxpoint.png)"
     ]
    },
    {
     "cell_type": "markdown",
     "metadata": {
      "internals": {
       "slide_helper": "subslide_end",
       "slide_type": "subslide"
      },
      "slide_helper": "slide_end",
      "slideshow": {
       "slide_type": "slide"
      }
     },
     "source": [
      "## Focus of this talk\n",
      "\n",
      "1. Not Math\n",
      "2. Not Programming\n",
      "3. Problem Solving\n",
      "4. Under-utilized methods\n",
      "5. Showcase Ipython Notebooks"
     ]
    },
    {
     "cell_type": "markdown",
     "metadata": {
      "internals": {
       "frag_helper": "fragment_end",
       "frag_number": 4,
       "slide_helper": "subslide_end",
       "slide_type": "subslide"
      },
      "slide_helper": "slide_end",
      "slideshow": {
       "slide_type": "slide"
      }
     },
     "source": [
      "## Background \u2013 What we do as a company\n",
      "\n",
      "1. Programmatic Advertising\n",
      "2. Custom ad campaigns for agencies and large companies\n",
      "3. Targeting Platform\n",
      "    - Hyper local geo targeting\n",
      "    - Cookie and cookieless user targeting\n",
      "    - Contextual and Performance based media targeting"
     ]
    },
    {
     "cell_type": "markdown",
     "metadata": {
      "internals": {
       "slide_helper": "subslide_end",
       "slide_type": "subslide"
      },
      "slide_helper": "slide_end",
      "slideshow": {
       "slide_type": "slide"
      }
     },
     "source": [
      "![overview](rtb_overview.jpg)"
     ]
    },
    {
     "cell_type": "markdown",
     "metadata": {
      "internals": {
       "frag_helper": "fragment_end",
       "frag_number": 4,
       "slide_helper": "subslide_end",
       "slide_type": "subslide"
      },
      "slide_helper": "slide_end",
      "slideshow": {
       "slide_type": "slide"
      }
     },
     "source": [
      "## Background \u2013 What does our system do\n",
      "\n",
      "- Real Time Bidding with 12B-15B ad requests\n",
      "- We want to serve several hundred million ads\n",
      "- Data intelligence paltform\n",
      "- Offline and online models to create scored lists\n",
      "    - Users\n",
      "    - Media\n",
      "    - Geography\n",
      "    - Time\n",
      "    - Auction theory\n",
      "- Score every ad request\n",
      "- Bidders execute on scores in under 50ms roundtrip\n",
      "\n",
      "\n"
     ]
    },
    {
     "cell_type": "markdown",
     "metadata": {
      "internals": {
       "frag_helper": "fragment_end",
       "frag_number": 4,
       "slide_helper": "subslide_end",
       "slide_type": "subslide"
      },
      "slide_helper": "slide_end",
      "slideshow": {
       "slide_type": "slide"
      }
     },
     "source": [
      "## Background \u2013 What we do as data scientists\n",
      "\n",
      "1. Focus\n",
      "    - Machine learning\n",
      "    - Automation\n",
      "    - Scale\n",
      "2. Process\n",
      "    - Prototype examples\n",
      "    - Implement in production if possible"
     ]
    },
    {
     "cell_type": "markdown",
     "metadata": {
      "internals": {
       "frag_helper": "fragment_end",
       "frag_number": 4,
       "slide_type": "subslide"
      },
      "slideshow": {
       "slide_type": "slide"
      }
     },
     "source": [
      "## Background \u2013 The pacing problem\n",
      "\n",
      "For each campaign we have a target for the number of ads to serve every minute. We would like to serve the best quality ads at every opportunity. "
     ]
    },
    {
     "cell_type": "markdown",
     "metadata": {
      "internals": {
       "frag_number": 7,
       "slide_helper": "subslide_end"
      },
      "slide_helper": "slide_end",
      "slideshow": {
       "slide_type": "fragment"
      }
     },
     "source": [
      "### Why?\n",
      "1. Best time to influence people\n",
      "2. Always serve the best ads possible\n",
      "3. Smooth serving accross the day (hedging)\n",
      "4. To beat competition"
     ]
    },
    {
     "cell_type": "markdown",
     "metadata": {
      "internals": {
       "frag_helper": "fragment_end",
       "frag_number": 7,
       "slide_type": "subslide"
      },
      "slideshow": {
       "slide_type": "slide"
      }
     },
     "source": [
      "## Problem 1:  How do I control the speed of ad serving?"
     ]
    },
    {
     "cell_type": "markdown",
     "metadata": {
      "internals": {
       "frag_helper": "fragment_end",
       "frag_number": 9,
       "slide_helper": "subslide_end"
      },
      "slide_helper": "slide_end",
      "slideshow": {
       "slide_type": "fragment"
      }
     },
     "source": [
      "![logo](requests_by_hour.png)"
     ]
    },
    {
     "cell_type": "markdown",
     "metadata": {
      "internals": {
       "frag_helper": "fragment_end",
       "frag_number": 9,
       "slide_helper": "subslide_end",
       "slide_type": "subslide"
      },
      "slide_helper": "slide_end",
      "slideshow": {
       "slide_type": "slide"
      }
     },
     "source": [
      "## PID Control\n",
      "\n",
      "A proportional-integral-derivative controller is a control loop feedback mechanism.\n",
      "\n",
      "- $SP$ : Set point (target you would like your process to hit)\n",
      "- $PV$ : Process value (where your process currently is)\n",
      "- $e$   : Error\u00a0($SP - PV$)\n",
      "- $K_p$ : Proportional gain, a tuning parameter\n",
      "- $K_i$ : Integral gain, a tuning parameter\n",
      "- $K_d$ : Derivative gain, a tuning parameter\n",
      "- $t$   : Time or instantaneous time (the present)\n",
      "- $\\tau$ : Variable of integration; takes on values from time 0 to the present\n",
      "- $u(t)$ : PID Controller output at time $t$\n",
      "\n",
      "$$\n",
      "u(t) = K_pe(t) + K_i\\int_0^te(\\tau)d\\tau + K_d\\cfrac{d}{dt}e(t)\n",
      "$$"
     ]
    },
    {
     "cell_type": "markdown",
     "metadata": {
      "internals": {
       "frag_helper": "fragment_end",
       "frag_number": 9,
       "slide_type": "subslide"
      },
      "slideshow": {
       "slide_type": "slide"
      }
     },
     "source": [
      "## PID Tuning\n",
      "\n",
      "- PID loops are very sensitive to tuning the parameters\n",
      "- Tuning parameters are also specific to each implementation\n",
      "- Tuning is made easier through dimension reduction of parameter space via Ziegler-Nichols transformation\n",
      "\n",
      "\n",
      "|        |   $K_p$   |   $K_i$    |   $K_d$   |\n",
      "| -------- | -------- | -------- | -------- |\n",
      "| PID    | $0.6K_u$ | $2K_p/P_u$ | $K_pP_u/8$|"
     ]
    },
    {
     "cell_type": "code",
     "collapsed": false,
     "input": [
      "import pandas as pd\n",
      "from pandas import Series\n",
      "import matplotlib.pyplot as plt\n",
      "import numpy.random as rand\n",
      "import numpy as np\n",
      "%matplotlib inline\n",
      "pd.set_option('display.width',200)\n",
      "\n",
      "import time\n",
      "from bokeh.plotting import *\n",
      "from bokeh.objects import Glyph\n",
      "from bokeh.objects import Range1d \n",
      "output_notebook(url=\"default\")"
     ],
     "language": "python",
     "metadata": {
      "internals": {
       "frag_helper": "fragment_end",
       "frag_number": 9,
       "slide_helper": "subslide_end"
      },
      "slide_helper": "slide_end",
      "slideshow": {
       "slide_type": "skip"
      }
     },
     "outputs": [
      {
       "output_type": "stream",
       "stream": "stdout",
       "text": [
        "Using saved session configuration for http://localhost:5006/\n",
        "To override, pass 'load_from_config=False' to Session\n"
       ]
      }
     ],
     "prompt_number": 1
    },
    {
     "cell_type": "code",
     "collapsed": false,
     "input": [
      "class PID:    \n",
      "    def __init__(self):\n",
      "        self.Kp = 0\n",
      "        self.Kd = 0\n",
      "        self.Ki = 0\n",
      "        self.Ku = 0\n",
      "        self.Pu = 0\n",
      "        self.previous_error = 0\n",
      "        self.cumulative_error = 0\n",
      "        \n",
      "    def update_params(self):\n",
      "        self.Kp = 0.6*self.Ku\n",
      "        self.Ki = 2*0.2*self.Ku/self.Pu\n",
      "        self.Kd = 0.6*self.Ku*self.Pu/8\n",
      "    \n",
      "    def set_zn_params(self,Ku, Pu):\n",
      "        ''' Ziegler-Nichols Parameters '''\n",
      "        self.Pu = Pu\n",
      "        self.Ku = Ku\n",
      "        self.update_params()\n",
      "\n",
      "    def set_pid_params(self,Kp, Ki, Kd):\n",
      "        self.Kp = Kp\n",
      "        self.Kd = Ki\n",
      "        self.Ki = Kd\n",
      "               \n",
      "    def step(self, error, time_delta):\n",
      "        \n",
      "        error_delta = error - self.previous_error \n",
      "        \n",
      "        self.p_contribution = self.Kp * error\n",
      "        self.cumulative_error += error * time_delta  \n",
      "        self.i_contribution =  self.Ki * self.cumulative_error\n",
      "        self.d_contribution = 0\n",
      "        if time_delta > 0:                  \n",
      "            self.d_contribution = self.Kd * error_delta/time_delta      \n",
      "            \n",
      "        self.previous_error = error \n",
      "        \n",
      "        return self.p_contribution + self.i_contribution + self.d_contribution"
     ],
     "language": "python",
     "metadata": {
      "internals": {
       "frag_helper": "fragment_end",
       "frag_number": 9,
       "slide_type": "subslide"
      },
      "slideshow": {
       "slide_type": "slide"
      }
     },
     "outputs": [],
     "prompt_number": 2
    },
    {
     "cell_type": "code",
     "collapsed": false,
     "input": [
      "def pid_plot(res):\n",
      "    fig = plt.figure()\n",
      "    ax = res.process_value.plot(figsize=(12,6), label = 'Process Value' )\n",
      "    res.set_point.plot(secondary_y=False, style='y', label = 'Setpoint Target' )\n",
      "    ax2 = res.controller_output.plot(secondary_y=True, style='r', label = 'Controller Output'  )\n",
      "    \n",
      "    ax.set_xlabel('Iteration', fontsize=16)\n",
      "    ax.set_ylabel('Target Values', fontsize=16)\n",
      "    ax2.set_ylabel('Controller Output', fontsize=16)\n",
      "    \n",
      "    handles, labels = ax.get_legend_handles_labels()\n",
      "    handles2, labels2 = ax2.get_legend_handles_labels()\n",
      "    \n",
      "    handles.extend(handles2)\n",
      "    labels.extend(labels2)\n",
      "    \n",
      "    ax.legend(handles, labels)\n",
      "    plt.show()"
     ],
     "language": "python",
     "metadata": {
      "internals": {
       "frag_helper": "fragment_end",
       "frag_number": 9
      },
      "slideshow": {
       "slide_type": "skip"
      }
     },
     "outputs": [],
     "prompt_number": 3
    },
    {
     "cell_type": "code",
     "collapsed": false,
     "input": [
      "def pid_stream_plot1(res):\n",
      "    N = len(res.iteration)\n",
      "\n",
      "    figure(tools=\"\", \n",
      "            title = 'PID Process',\n",
      "            x_axis_label = 'Iteration',\n",
      "            y_axis_label = 'Process Value',\n",
      "            y_range=Range1d(start=0, end=15))\n",
      "\n",
      "    hold()\n",
      "\n",
      "    line(res.iteration,res.set_point, color=\"#DF7401\", plot_width=800, plot_height=500, legend='Set Point')\n",
      "    line(res.iteration[:1],res.process_value[:1], color=\"#013ADF\", plot_width=800, plot_height=500, legend='Process Value')\n",
      "    line(res.iteration[:1],res.controller_output[:1], color=\"#FF0000\", plot_width=800, plot_height=500, legend='Controller Output')\n",
      "\n",
      "    grid().grid_line_alpha=0.3\n",
      "\n",
      "    renderer1 = [r for r in curplot().renderers if isinstance(r, Glyph)][1]\n",
      "    ds1 = renderer1.data_source\n",
      "    renderer2 = [r for r in curplot().renderers if isinstance(r, Glyph)][2]\n",
      "    ds2 = renderer2.data_source\n",
      "    \n",
      "    #xaxis().axis_label='Iteration'\n",
      "    #yaxis().axis_label='Values'\n",
      "    show()\n",
      "\n",
      "    for i in range(N):\n",
      "        ds1.data[\"x\"] = res.iteration[:i]\n",
      "        ds1.data[\"y\"] = res.process_value[:i]\n",
      "        ds2.data[\"x\"] = res.iteration[:i]\n",
      "        ds2.data[\"y\"] = res.controller_output[:i]\n",
      "        ds1._dirty = True\n",
      "        ds2._dirty = True\n",
      "        cursession().store_objects(ds1)\n",
      "        cursession().store_objects(ds2)\n",
      "        time.sleep(0.01)"
     ],
     "language": "python",
     "metadata": {
      "internals": {
       "frag_helper": "fragment_end",
       "frag_number": 9
      },
      "slideshow": {
       "slide_type": "skip"
      }
     },
     "outputs": [],
     "prompt_number": 4
    },
    {
     "cell_type": "code",
     "collapsed": false,
     "input": [
      "def run_pid(Ku = 0.2, Pu = 5):\n",
      "    pid = PID()\n",
      "    pid.set_zn_params(Ku, Pu)\n",
      "\n",
      "    res = pd.DataFrame(columns=('iteration', 'set_point', 'process_value', \n",
      "                             'controller_output', 'controller_change', 'error'))\n",
      "    iteration = 0\n",
      "    set_point = 5\n",
      "    process_value = 0\n",
      "    controller_output = 1\n",
      "    controller_change = 0\n",
      "    error = 0\n",
      "    time_delta = 1\n",
      "\n",
      "    row = pd.DataFrame([dict(iteration = iteration, \n",
      "                             set_point = set_point,\n",
      "                             process_value = process_value, \n",
      "                             controller_output = controller_output,\n",
      "                             controller_change = controller_change,\n",
      "                             error = error)])\n",
      "    res = res.append(row, ignore_index=True)\n",
      "\n",
      "    for i in range(1, 250):\n",
      "        process_value = 1.7*(controller_output + 1)\n",
      "        error = set_point - process_value\n",
      "        controller_change = pid.step(error,time_delta)\n",
      "        controller_output += controller_change     \n",
      "        controller_output = min(max(controller_output,1),30)\n",
      "\n",
      "        #arbitrary set_point changes     \n",
      "        if (i==50):\n",
      "            set_point = 8\n",
      "        if (i==100):\n",
      "            set_point = 12\n",
      "        if (i==150):\n",
      "            set_point = 4\n",
      "\n",
      "        row = pd.DataFrame([dict(iteration = i, \n",
      "                                 set_point = set_point, \n",
      "                                 process_value = process_value, \n",
      "                                 error = error,\n",
      "                                 controller_output = controller_output,\n",
      "                                 controller_change = controller_change)])\n",
      "        res = res.append(row, ignore_index=True) \n",
      "    \n",
      "    return res"
     ],
     "language": "python",
     "metadata": {
      "internals": {
       "frag_helper": "fragment_end",
       "frag_number": 9,
       "slide_helper": "subslide_end"
      },
      "slide_helper": "slide_end",
      "slideshow": {
       "slide_type": "skip"
      }
     },
     "outputs": [],
     "prompt_number": 5
    },
    {
     "cell_type": "markdown",
     "metadata": {
      "internals": {
       "frag_helper": "fragment_end",
       "frag_number": 9,
       "slide_type": "subslide"
      },
      "slideshow": {
       "slide_type": "slide"
      }
     },
     "source": [
      "## PID Toy Example"
     ]
    },
    {
     "cell_type": "code",
     "collapsed": false,
     "input": [
      "res = run_pid(Ku = 0.2, Pu = 5)\n",
      "pid_plot(res)\n",
      "#pid_stream_plot1(res)\n"
     ],
     "language": "python",
     "metadata": {
      "internals": {
       "frag_helper": "fragment_end",
       "frag_number": 18,
       "slide_helper": "subslide_end"
      },
      "slide_helper": "slide_end",
      "slideshow": {
       "slide_type": "fragment"
      }
     },
     "outputs": [
      {
       "metadata": {},
       "output_type": "display_data",
       "png": "[encoded data removed]",
       "text": [
        "<matplotlib.figure.Figure at 0x1190eef0>"
       ]
      }
     ],
     "prompt_number": 32
    },
    {
     "cell_type": "markdown",
     "metadata": {
      "internals": {
       "frag_helper": "fragment_end",
       "frag_number": 18,
       "slide_helper": "subslide_end",
       "slide_type": "subslide"
      },
      "slide_helper": "slide_end",
      "slideshow": {
       "slide_type": "slide"
      }
     },
     "source": [
      "## Some Lessons\n",
      "\n",
      "1. So this kind of works!\n",
      "2. Tuning is important\n",
      "3. Build in safeguards"
     ]
    },
    {
     "cell_type": "markdown",
     "metadata": {
      "internals": {
       "frag_helper": "fragment_end",
       "frag_number": 18,
       "slide_type": "subslide"
      },
      "slideshow": {
       "slide_type": "slide"
      }
     },
     "source": [
      "## Problem 2: But my process value is not nearly that smooth\n",
      "\n",
      "We need some kind of time series smoothing."
     ]
    },
    {
     "cell_type": "markdown",
     "metadata": {
      "internals": {
       "frag_helper": "fragment_end",
       "frag_number": 21
      },
      "slideshow": {
       "slide_type": "fragment"
      }
     },
     "source": [
      "Anything ARIMA or moving average based is a really bad idea:\n",
      "1. It's slow changing\n",
      "2. Has a built in lag\n",
      "3. Entirely backwards looking\n",
      "4. Offline Algorithm"
     ]
    },
    {
     "cell_type": "markdown",
     "metadata": {
      "internals": {
       "frag_helper": "fragment_end",
       "frag_number": 22,
       "slide_helper": "subslide_end"
      },
      "slide_helper": "slide_end",
      "slideshow": {
       "slide_type": "fragment"
      }
     },
     "source": [
      "What we really need is a **Dynamic Linear Model**$^1$\n",
      "\n",
      "1. Forward looking\n",
      "2. Online Algorithm\n",
      "4. Certainty estimates about current state\n",
      "3. Bayesian\n",
      "\n",
      "$ $\n",
      "\n",
      "$^1$ We run about 3B DLMs a day, pacing is only 4-5M of those"
     ]
    },
    {
     "cell_type": "markdown",
     "metadata": {
      "internals": {
       "frag_helper": "fragment_end",
       "frag_number": 22,
       "slide_helper": "subslide_end",
       "slide_type": "subslide"
      },
      "slide_helper": "slide_end",
      "slideshow": {
       "slide_type": "slide"
      }
     },
     "source": [
      "## Kalman Filter\n",
      "\n",
      "Kalman filter is a very basic DLM$^2$\n",
      "\n",
      "The general problem is to estimate the state $x \\in \\mathbb{R}^n$ of a discrete-time controlled process that is governed by the linear stochastic difference equation:\n",
      "\n",
      "$$\n",
      "x_k = Ax_{k-1} + Bu_{k-1} + w_{k}\n",
      "$$\n",
      "\n",
      "with measurement $z \\in \\mathbb{R}^m$ that is\n",
      "\n",
      "$$\n",
      "z_k = Hx_k + v_k\n",
      "$$\n",
      "\n",
      "where $w_k$ and $v_k$ are the process and measurement noise with\n",
      "\n",
      "$$ p(w) \\backsim N(0,Q) $$\n",
      "$$ p(v) \\backsim N(0,R) $$\n",
      "\n",
      "$A$ is $n \\times n$ is the difference equation relating state $k$ to state $k-1$.\n",
      "\n",
      "$B$ relates to the optional control input $u \\in \\mathbb{R}^l$ to state $x$.\n",
      "\n",
      "$H$ is an $m \\times n$ matrix in the measurement equation relating to the observed measurements $z_k$.\n",
      "\n",
      "$ $\n",
      "\n",
      "\n",
      "$^2$ (2006) Welch and Bishop - 'An Introduction to the Kalman Filter'"
     ]
    },
    {
     "cell_type": "markdown",
     "metadata": {
      "internals": {
       "frag_helper": "fragment_end",
       "frag_number": 22,
       "slide_helper": "subslide_end",
       "slide_type": "subslide"
      },
      "slide_helper": "slide_end",
      "slideshow": {
       "slide_type": "slide"
      }
     },
     "source": [
      "## Kalman Filter continued\n",
      "\n",
      "We can define $\\hat{x}^-_k \\in \\mathbb{R}^n$ as a priori estimate a step $k$ given all our knowledge up to step $k$, and $\\hat{x}_k \\in \\mathbb{R}^n$ is the a posteriori state estimate at step $k$ given measurement $z_k$. \n",
      "\n",
      "Thus  a priori and a posteriori errors are:\n",
      "\n",
      "$$e^-_k \\equiv x_k - \\hat{x}^-_k $$\n",
      "$$e_k \\equiv x_k - \\hat{x}_k $$\n",
      "\n",
      "With covariances:\n",
      "\n",
      "$$ P^-_k = E[e^-_ke^{-T}_k]\n",
      "\\\\\n",
      "P_k = E[e_ke^{T}_k]$$\n",
      "\n",
      "We eventually end up with something called *blending factor*\n",
      "\n",
      "$$K_k = P^-_kH^t(HP^-_kH^T+R)^{-1} $$\n",
      "\n",
      "So as the measurement error covariance $R$ approaches $0$, $K$ weights the process residual more heavily. \n",
      "\n",
      "Conversely, as the a priori estimate error covariance $P^-_k$ approaches $0$, $K$ weights the process residual less heavily."
     ]
    },
    {
     "cell_type": "markdown",
     "metadata": {
      "internals": {
       "frag_helper": "fragment_end",
       "frag_number": 22,
       "slide_helper": "subslide_end",
       "slide_type": "subslide"
      },
      "slide_helper": "slide_end",
      "slideshow": {
       "slide_type": "slide"
      }
     },
     "source": [
      "## Kalman Filter Algorithm\n",
      "\n",
      "Get initial estimates for $\\hat{x}_k$ and $P_{k-1}$\n",
      "\n",
      "###Time update step (Predict)\n",
      "Project the new state\n",
      "\n",
      "$$\\hat{x}^-_k = A \\hat{x}_{k-1} + Bu_{k-1}$$\n",
      "\n",
      "Project the new error covariance\n",
      "\n",
      "$$P^-_k=AP_{k-1}A^T+Q$$\n",
      "\n",
      "\n",
      "###Measurement Update (Correct)\n",
      "Compute blending factor\n",
      "\n",
      "$$K_k = P^-_kH^T(HP^-_kH^T+R)^{-1}$$\n",
      "\n",
      "Update process estimate with new measurement\n",
      "\n",
      "$$\\hat{x}_k = \\hat{x}^-_k + K_k(z_k-H\\hat{x}^-_k)$$\n",
      "\n",
      "Update error covariance\n",
      "\n",
      "$$P_k = (I-K_kH)P^-_k$$"
     ]
    },
    {
     "cell_type": "code",
     "collapsed": false,
     "input": [
      "class KalmanFilter:\n",
      "    def __init__(self, x, A, B, P, Q, H, R):\n",
      "        self.x_aposteriori = x          # Starting state\n",
      "        self.A = A                      # State transition matrix\n",
      "        self.B = B                      # Control matrix\n",
      "        self.covariance_aposteriori = P # Starting covariance\n",
      "        self.Q = Q                      # Process Error\n",
      "        self.H = H                      # Observation matrix\n",
      "        self.R = R                      # Measurement Error\n",
      "    \n",
      "    def update(self, measurement, control = 0):\n",
      "        # Time update\n",
      "        x_apriori = self.A * self.x_aposteriori + self.B * control\n",
      "        covariance_apriori = self.A * self.covariance_aposteriori * self.A.T + self.Q\n",
      "                                      \n",
      "        # Measurement Update\n",
      "        kalman_gain =  covariance_apriori * self.H.T * np.linalg.inv((self.H * covariance_apriori * self.H.T + self.R))\n",
      "        self.x_aposteriori = x_apriori + kalman_gain * (measurement - self.H * x_apriori)\n",
      "        dimension = self.covariance_aposteriori.size\n",
      "        self.covariance_aposteriori = (np.eye(dimension) - kalman_gain * self.H) * covariance_apriori"
     ],
     "language": "python",
     "metadata": {
      "internals": {
       "frag_helper": "fragment_end",
       "frag_number": 22,
       "slide_type": "subslide"
      },
      "slideshow": {
       "slide_type": "slide"
      }
     },
     "outputs": [],
     "prompt_number": 6
    },
    {
     "cell_type": "code",
     "collapsed": false,
     "input": [
      "def plot_kf(df):\n",
      "    fig = plt.figure()\n",
      "    ax = df.measurement.plot(figsize=(12,6), label = 'Measurement' )\n",
      "    df.smoothed_measurement.plot(secondary_y=False, style='g', label = 'Smoothed Measurement' )\n",
      "\n",
      "    ax.set_xlabel('Iteration', fontsize=16)\n",
      "    ax.set_ylabel('Measured Values', fontsize=16)\n",
      "\n",
      "    handles, labels = ax.get_legend_handles_labels()\n",
      "\n",
      "    ax.legend(handles, labels)\n",
      "    plt.show()\n",
      "    \n",
      "def kf_stream_plot1(df):\n",
      "    N = len(df.iteration)\n",
      "\n",
      "    figure(tools=\"\", \n",
      "            title = 'Kalman Filter Toy Example',\n",
      "            x_axis_label = 'Iteration',\n",
      "            x_range=Range1d(start=0, end=N),\n",
      "            y_range=Range1d(start=0, end=df.measurement.max() + 1))\n",
      "\n",
      "    hold()\n",
      "\n",
      "    line(res.iteration[:1],df.measurement[:1], color=\"#013ADF\", plot_width=800, plot_height=500, legend='Measurement Value')\n",
      "    line(res.iteration[:1],df.smoothed_measurement[:1], color=\"#088A08\", plot_width=800, plot_height=500, legend='Smoothed Measurement')\n",
      "\n",
      "    grid().grid_line_alpha=0.3\n",
      "\n",
      "    renderer1 = [r for r in curplot().renderers if isinstance(r, Glyph)][0]\n",
      "    ds1 = renderer1.data_source\n",
      "    renderer2 = [r for r in curplot().renderers if isinstance(r, Glyph)][1]\n",
      "    ds2 = renderer2.data_source\n",
      "    \n",
      "    xaxis().axis_label='Iteration'\n",
      "    yaxis().axis_label='Values'\n",
      "    show()\n",
      "\n",
      "    for i in range(N):\n",
      "        ds1.data[\"x\"] = df.iteration[:i]\n",
      "        ds1.data[\"y\"] = df.measurement[:i]\n",
      "        ds2.data[\"x\"] = df.iteration[:i]\n",
      "        ds2.data[\"y\"] = df.smoothed_measurement[:i]\n",
      "        ds1._dirty = True\n",
      "        ds2._dirty = True\n",
      "        cursession().store_objects(ds1)\n",
      "        cursession().store_objects(ds2)\n",
      "        time.sleep(0.01)"
     ],
     "language": "python",
     "metadata": {
      "internals": {
       "frag_helper": "fragment_end",
       "frag_number": 22,
       "slide_helper": "subslide_end"
      },
      "slide_helper": "slide_end",
      "slideshow": {
       "slide_type": "skip"
      }
     },
     "outputs": [],
     "prompt_number": 7
    },
    {
     "cell_type": "markdown",
     "metadata": {
      "internals": {
       "frag_helper": "fragment_end",
       "frag_number": 22,
       "slide_type": "subslide"
      },
      "slideshow": {
       "slide_type": "slide"
      }
     },
     "source": [
      "## Kalman Filter Toy Example\n",
      "\n",
      "Create some noisy series which has a clear underlying mean that will never clearly be measured.\n",
      "\n",
      "Generate $z \\backsim \\sum\\limits^n I(Uniform(0,10)>5)$."
     ]
    },
    {
     "cell_type": "code",
     "collapsed": false,
     "input": [
      "x = np.matrix(1)\n",
      "A = np.matrix(1)\n",
      "B = np.matrix(0)\n",
      "P = np.matrix(1)\n",
      "Q = np.matrix(0.05)\n",
      "H = np.matrix(1)\n",
      "R = np.matrix(2)\n",
      "\n",
      "kf = KalmanFilter(x, A, B, P, Q, H, R)\n",
      "\n",
      "df = pd.DataFrame(columns=('iteration','measurement','smoothed_measurement'))\n",
      "smoothed_measurement = 0\n",
      "measurement = 0\n",
      "\n",
      "row = pd.DataFrame([dict(iteration = 0,\n",
      "                         measurement = measurement, \n",
      "                         smoothed_measurement = smoothed_measurement)])\n",
      "\n",
      "df = df.append(row, ignore_index=True)"
     ],
     "language": "python",
     "metadata": {
      "internals": {
       "frag_helper": "fragment_end",
       "frag_number": 29,
       "slide_helper": "subslide_end"
      },
      "slide_helper": "slide_end",
      "slideshow": {
       "slide_type": "fragment"
      }
     },
     "outputs": [],
     "prompt_number": 8
    },
    {
     "cell_type": "code",
     "collapsed": false,
     "input": [
      "trials = 20\n",
      "\n",
      "for i in range(1,100):\n",
      "    measurement = 1*(np.random.uniform(0,10,trials)>5).sum()\n",
      "    kf.update(measurement)\n",
      "    smoothed_measurement = kf.x_aposteriori[(0,0)]\n",
      "    row = pd.DataFrame([dict(iteration = i,\n",
      "                             measurement = measurement, \n",
      "                             smoothed_measurement = smoothed_measurement)])\n",
      "    df = df.append(row, ignore_index=True)\n",
      "    if i == 50:\n",
      "        trials += 10\n",
      "    \n",
      "#plot_kf(df)\n",
      "kf_stream_plot1(df)"
     ],
     "language": "python",
     "metadata": {
      "internals": {
       "frag_helper": "fragment_end",
       "frag_number": 29,
       "slide_helper": "subslide_end",
       "slide_type": "subslide"
      },
      "slide_helper": "slide_end",
      "slideshow": {
       "slide_type": "slide"
      }
     },
     "outputs": [
      {
       "html": [
        "<script\n",
        "    src=\"http://localhost:5006/bokeh/autoload.js/0e58dfc1-d72b-4d96-8c21-5954494b669c\"\n",
        "    id=\"0e58dfc1-d72b-4d96-8c21-5954494b669c\"\n",
        "    async=\"true\"\n",
        "    data-bokeh-data=\"server\"\n",
        "    data-bokeh-modelid=\"b25529ac-e9ed-4b71-873c-1bf81f873387\"\n",
        "    data-bokeh-root-url=\"http://localhost:5006/\"\n",
        "    data-bokeh-docid=\"7a874728-54a8-4808-9648-cc71100c78ec\"\n",
        "    data-bokeh-docapikey=\"ec3277b3-d4f8-4384-b302-f47f77e398d9\"\n",
        "    data-bokeh-loglevel=\"info\"\n",
        "></script>"
       ],
       "metadata": {},
       "output_type": "display_data"
      }
     ],
     "prompt_number": 20
    },
    {
     "cell_type": "markdown",
     "metadata": {
      "internals": {
       "frag_helper": "fragment_end",
       "frag_number": 29,
       "slide_type": "subslide"
      },
      "slideshow": {
       "slide_type": "slide"
      }
     },
     "source": [
      "## Some more Lessons\n",
      "\n",
      "1. So this also kind of works!\n",
      "2. Tuning is also important\n",
      "3. We don't want a smooth filter"
     ]
    },
    {
     "cell_type": "code",
     "collapsed": false,
     "input": [
      "def pid_plot2(res):\n",
      "    fig = plt.figure()\n",
      "    ax = res.process_value.plot(figsize=(12,6), label = 'Process Value' )\n",
      "    res.set_point.plot(secondary_y=False, style='y', label = 'Setpoint Target' )\n",
      "    res.smoothed.plot(secondary_y=False, style='g', label = 'Smoothed Process Value' )\n",
      "    ax2 = res.controller_output.plot(secondary_y=True, style='r', label = 'Controller Output'  )\n",
      "    \n",
      "    ax.set_xlabel('Iteration', fontsize=16)\n",
      "    ax.set_ylabel('Target Values', fontsize=16)\n",
      "    ax2.set_ylabel('Controller Output', fontsize=16)\n",
      "    \n",
      "    handles, labels = ax.get_legend_handles_labels()\n",
      "    handles2, labels2 = ax2.get_legend_handles_labels()\n",
      "    \n",
      "    handles.extend(handles2)\n",
      "    labels.extend(labels2)\n",
      "    \n",
      "    ax.legend(handles, labels)\n",
      "    plt.show()\n",
      "    \n",
      "def pid_stream_plot2(res):\n",
      "    N = len(res.iteration)\n",
      "\n",
      "    figure(tools=\"pan,wheel_zoom,box_zoom,reset,previewsave\", \n",
      "            title = 'PID Process with noisy data',\n",
      "            y_range = Range1d(start=0, end=res.controller_output.max()+1),\n",
      "            x_axis_label = 'Iteration')\n",
      "\n",
      "    hold()\n",
      "\n",
      "    line(res.iteration,res.set_point, color=\"#DF7401\", plot_width=800, plot_height=500, legend='Set Point')\n",
      "    line(res.iteration[:1],res.process_value[:1], color=\"#013ADF\", plot_width=800, plot_height=500, legend='Process Value')\n",
      "    line(res.iteration[:1],res.controller_output[:1], color=\"#FF0000\", plot_width=800, plot_height=500, legend='Controller Output')\n",
      "    line(res.iteration[:1],res.smoothed[:1], color=\"#088A08\", plot_width=800, plot_height=500, legend='Smoothed Process Value')\n",
      "    \n",
      "    grid().grid_line_alpha=0.3\n",
      "\n",
      "    renderer1 = [r for r in curplot().renderers if isinstance(r, Glyph)][1]\n",
      "    ds1 = renderer1.data_source\n",
      "    renderer2 = [r for r in curplot().renderers if isinstance(r, Glyph)][2]\n",
      "    ds2 = renderer2.data_source\n",
      "    renderer3 = [r for r in curplot().renderers if isinstance(r, Glyph)][3]\n",
      "    ds3 = renderer3.data_source\n",
      "    \n",
      "    xaxis().axis_label='Iteration'\n",
      "    yaxis().axis_label='Values'\n",
      "    show()\n",
      "\n",
      "    for i in range(N):\n",
      "        ds1.data[\"x\"] = res.iteration[:i]\n",
      "        ds1.data[\"y\"] = res.process_value[:i]\n",
      "        ds2.data[\"x\"] = res.iteration[:i]\n",
      "        ds2.data[\"y\"] = res.controller_output[:i]\n",
      "        ds3.data[\"x\"] = res.iteration[:i]\n",
      "        ds3.data[\"y\"] = res.smoothed[:i]\n",
      "        ds1._dirty = True\n",
      "        ds2._dirty = True\n",
      "        ds3._dirty = True\n",
      "        cursession().store_objects(ds1)\n",
      "        cursession().store_objects(ds2)\n",
      "        cursession().store_objects(ds3)\n",
      "        time.sleep(0.01)"
     ],
     "language": "python",
     "metadata": {
      "internals": {
       "frag_helper": "fragment_end",
       "frag_number": 29,
       "slide_helper": "subslide_end"
      },
      "slide_helper": "slide_end",
      "slideshow": {
       "slide_type": "skip"
      }
     },
     "outputs": [],
     "prompt_number": 9
    },
    {
     "cell_type": "markdown",
     "metadata": {
      "internals": {
       "frag_helper": "fragment_end",
       "frag_number": 29,
       "slide_helper": "subslide_end",
       "slide_type": "subslide"
      },
      "slide_helper": "slide_end",
      "slideshow": {
       "slide_type": "slide"
      }
     },
     "source": [
      "## Putting it together"
     ]
    },
    {
     "cell_type": "code",
     "collapsed": false,
     "input": [
      "def init_system(Ku = 0.3,Pu = 25):\n",
      "    res = pd.DataFrame(columns=('iteration', 'set_point', 'process_value', 'smoothed',\n",
      "                             'controller_output', 'controller_change', 'error'))\n",
      "    iteration = 0\n",
      "    set_point = 5\n",
      "    process_value = 0\n",
      "    controller_output = 1\n",
      "    controller_change = 0\n",
      "    error = 0\n",
      "    smoothed = 0\n",
      "\n",
      "    row = pd.DataFrame([dict(iteration = iteration, \n",
      "                             set_point = set_point,\n",
      "                             process_value = process_value, \n",
      "                             smoothed = smoothed,\n",
      "                             controller_output = controller_output,\n",
      "                             controller_change = controller_change,\n",
      "                             error = error)])\n",
      "    res = res.append(row, ignore_index=True)\n",
      "\n",
      "    #initialise PID\n",
      "    pid = PID()\n",
      "    pid.set_zn_params(Ku, Pu)\n",
      "\n",
      "    #initialise Kalman Filter\n",
      "    x = np.matrix(1)\n",
      "    A = np.matrix(1)\n",
      "    B = np.matrix(0)\n",
      "    P = np.matrix(1)\n",
      "    Q = np.matrix(0.5)\n",
      "    H = np.matrix(1)\n",
      "    R = np.matrix(10)\n",
      "    kf = KalmanFilter(x, A, B, P, Q, H, R)\n",
      "    \n",
      "    return res, pid, kf "
     ],
     "language": "python",
     "metadata": {
      "internals": {
       "frag_helper": "fragment_end",
       "frag_number": 29,
       "slide_helper": "subslide_end",
       "slide_type": "subslide"
      },
      "slide_helper": "slide_end",
      "slideshow": {
       "slide_type": "slide"
      }
     },
     "outputs": [],
     "prompt_number": 10
    },
    {
     "cell_type": "code",
     "collapsed": false,
     "input": [
      "def exec_system(res, pid, kf):\n",
      "    controller_output = res.controller_output[0]\n",
      "    set_point = res.set_point[0]\n",
      "    time_delta = 1\n",
      "    for i in range(1, 250):\n",
      "        process_value = 1*(rand.uniform(0,10,controller_output)>5).sum()\n",
      "        kf.update(process_value)\n",
      "        smoothed = kf.x_aposteriori[(0,0)]\n",
      "        error = set_point - smoothed.item()\n",
      "        controller_change = pid.step(error,time_delta)\n",
      "        controller_output += controller_change     \n",
      "        controller_output = min(max(controller_output,1),30)\n",
      "\n",
      "        #arbitrary set_point changes     \n",
      "        if (i==50):\n",
      "            set_point = 8\n",
      "        if (i==100):\n",
      "            set_point = 12\n",
      "        if (i==150):\n",
      "            set_point = 4\n",
      "\n",
      "\n",
      "        row = pd.DataFrame([dict(iteration = i, \n",
      "                                 set_point = set_point, \n",
      "                                 process_value = process_value, \n",
      "                                 smoothed = smoothed,\n",
      "                                 error = error,\n",
      "                                 controller_output = controller_output,\n",
      "                                 controller_change = controller_change)])\n",
      "        res = res.append(row, ignore_index=True) \n",
      "    \n",
      "    return res"
     ],
     "language": "python",
     "metadata": {
      "internals": {
       "frag_helper": "fragment_end",
       "frag_number": 29,
       "slide_helper": "subslide_end",
       "slide_type": "subslide"
      },
      "slide_helper": "slide_end",
      "slideshow": {
       "slide_type": "slide"
      }
     },
     "outputs": [],
     "prompt_number": 11
    },
    {
     "cell_type": "code",
     "collapsed": false,
     "input": [
      "res, pid, kf = init_system(Ku = 0.3,Pu = 5)\n",
      "res = exec_system(res, pid, kf)\n",
      "pid_plot2(res)\n",
      "#pid_stream_plot2(res)"
     ],
     "language": "python",
     "metadata": {
      "internals": {
       "frag_helper": "fragment_end",
       "frag_number": 29,
       "slide_helper": "subslide_end",
       "slide_type": "subslide"
      },
      "slide_helper": "slide_end",
      "slideshow": {
       "slide_type": "slide"
      }
     },
     "outputs": [
      {
       "metadata": {},
       "output_type": "display_data",
       "png": "[encoded data removed]",
       "text": [
        "<matplotlib.figure.Figure at 0x1077db70>"
       ]
      }
     ],
     "prompt_number": 34
    },
    {
     "cell_type": "markdown",
     "metadata": {
      "internals": {
       "frag_helper": "fragment_end",
       "frag_number": 29,
       "slide_type": "subslide"
      },
      "slideshow": {
       "slide_type": "slide"
      }
     },
     "source": [
      "## Even more Lessons\n",
      "\n",
      "1. So this still also kind of works!\n",
      "2. Tuning is also important but all ad campaigns are different\n",
      "3. Movements of the PID controller output is not smooth"
     ]
    },
    {
     "cell_type": "markdown",
     "metadata": {
      "internals": {
       "frag_helper": "fragment_end",
       "frag_number": 38,
       "slide_helper": "subslide_end"
      },
      "slide_helper": "slide_end",
      "slideshow": {
       "slide_type": "fragment"
      }
     },
     "source": [
      "![domain_requests](requests_by_domain.png)"
     ]
    },
    {
     "cell_type": "markdown",
     "metadata": {
      "internals": {
       "frag_helper": "fragment_end",
       "frag_number": 38,
       "slide_helper": "subslide_end",
       "slide_type": "subslide"
      },
      "slide_helper": "slide_end",
      "slideshow": {
       "slide_type": "slide"
      }
     },
     "source": [
      "## Particle Swarm Optimization\n",
      "\n",
      "1. Create a population (called a swarm) of candidate solutions (called particles). \n",
      "2. These particles are moved around in the search-space according to a few simple formulae. \n",
      "3. The movements of the particles are guided by their own best known position in the search-space as well as the entire swarm's best known position. \n",
      "4. When improved positions are being discovered these will then come to guide the movements of the swarm.\n"
     ]
    },
    {
     "cell_type": "markdown",
     "metadata": {
      "internals": {
       "frag_helper": "fragment_end",
       "frag_number": 38,
       "slide_helper": "subslide_end",
       "slide_type": "subslide"
      },
      "slide_helper": "slide_end",
      "slideshow": {
       "slide_type": "slide"
      }
     },
     "source": [
      "## Na\u00efve Particle Swarm Optimization\n",
      "\n",
      "1. Pick a safe starting point (the system has to start somewhere)\n",
      "2. After each iteration spawn $k$ new particles around the previous used particle\n",
      "3. Validate retroactively which particle would have performed the best in the last iteration\n",
      "4. Update used particle to be the optimal back tested particle\n"
     ]
    },
    {
     "cell_type": "code",
     "collapsed": false,
     "input": [
      "def pid_neighbours(pid, w):\n",
      "       \n",
      "    # create neighbouring PIDs\n",
      "    pidKminus = copy(pid)\n",
      "    pidKminus.set_params(max(pid.Ku*(1-w),ku_floor), pid.Pu)    \n",
      "    \n",
      "    pidKplus = copy(pid)\n",
      "    pidKplus.set_params(min(pid.Ku*(1+w),ku_ceiling), pid.Pu)  \n",
      "    \n",
      "    pidPminus = copy(pid)\n",
      "    pidPminus.set_params(pid.Ku, max(pid.Pu*(1-w), pu_floor))\n",
      "    \n",
      "    pidPplus = copy(pid)\n",
      "    pidPplus.set_params(pid.Ku, min(pid.Pu*(1+w), pu_ceiling))\n",
      "    \n",
      "    return pidKminus, pidKplus, pidPminus, pidPplus"
     ],
     "language": "python",
     "metadata": {
      "internals": {
       "frag_helper": "fragment_end",
       "frag_number": 38,
       "slide_type": "subslide"
      },
      "slideshow": {
       "slide_type": "slide"
      }
     },
     "outputs": [],
     "prompt_number": 12
    },
    {
     "cell_type": "code",
     "collapsed": false,
     "input": [
      "df3 = pd.read_csv('test_dat.csv')\n",
      "\n",
      "pacing_all = pd.DataFrame(columns=('thour','tmin','imps'))\n",
      "for i in range(7,23):\n",
      "    for j in range(2,58):\n",
      "        impressions = df3[(df3.thour==i) & (df3.tminute==j)]['dirretargetingflag'].notnull().sum()\n",
      "        row = pd.DataFrame([dict(thour = i,tmin = j,imps = impressions), ])\n",
      "        pacing_all = pacing_all.append(row, ignore_index=True)\n",
      "\n",
      "def score_plot(df3):\n",
      "    plt.figure()\n",
      "    ax = df3['final_score'].hist(bins=100, range = (0,10),figsize=(12,6))\n",
      "    ax.set_xlabel('Score', fontsize=16) \n",
      "    ax.set_ylabel('Available ads', fontsize=16)\n",
      "    handles, labels = ax.get_legend_handles_labels()\n",
      "\n",
      "def ts_plot(pacing_all):\n",
      "    plt.figure()\n",
      "    ax = pacing_all.imps.plot(figsize=(12,6), label = 'Ads Available')\n",
      "    ax.set_xlabel('Minute', fontsize=16) \n",
      "    ax.set_ylabel('Available ads', fontsize=16)\n",
      "    handles, labels = ax.get_legend_handles_labels()"
     ],
     "language": "python",
     "metadata": {
      "internals": {
       "frag_helper": "fragment_end",
       "frag_number": 38,
       "slide_helper": "subslide_end"
      },
      "slide_helper": "slide_end",
      "slideshow": {
       "slide_type": "skip"
      }
     },
     "outputs": [],
     "prompt_number": 13
    },
    {
     "cell_type": "markdown",
     "metadata": {
      "internals": {
       "frag_helper": "fragment_end",
       "frag_number": 38,
       "slide_type": "subslide"
      },
      "slideshow": {
       "slide_type": "slide"
      }
     },
     "source": [
      "## So let's try some real data"
     ]
    },
    {
     "cell_type": "markdown",
     "metadata": {
      "internals": {
       "frag_helper": "fragment_end",
       "frag_number": 44
      },
      "slideshow": {
       "slide_type": "fragment"
      }
     },
     "source": [
      "### Skew and variable score distributions"
     ]
    },
    {
     "cell_type": "code",
     "collapsed": false,
     "input": [
      "score_plot(df3)"
     ],
     "language": "python",
     "metadata": {
      "internals": {
       "frag_helper": "fragment_end",
       "frag_number": 45,
       "slide_helper": "subslide_end"
      },
      "slide_helper": "slide_end",
      "slideshow": {
       "slide_type": "fragment"
      }
     },
     "outputs": [
      {
       "metadata": {},
       "output_type": "display_data",
       "png": "[encoded data removed]",
       "text": [
        "<matplotlib.figure.Figure at 0xcb7c208>"
       ]
      }
     ],
     "prompt_number": 14
    },
    {
     "cell_type": "markdown",
     "metadata": {
      "internals": {
       "frag_helper": "fragment_end",
       "frag_number": 45,
       "slide_type": "subslide"
      },
      "slideshow": {
       "slide_type": "slide"
      }
     },
     "source": [
      "### Highly volatile stream of ad requests"
     ]
    },
    {
     "cell_type": "code",
     "collapsed": false,
     "input": [
      "ts_plot(pacing_all)"
     ],
     "language": "python",
     "metadata": {
      "internals": {
       "frag_helper": "fragment_end",
       "frag_number": 47,
       "slide_helper": "subslide_end"
      },
      "slide_helper": "slide_end",
      "slideshow": {
       "slide_type": "fragment"
      }
     },
     "outputs": [
      {
       "metadata": {},
       "output_type": "display_data",
       "png": "[encoded data removed]",
       "text": [
        "<matplotlib.figure.Figure at 0x11923160>"
       ]
      }
     ],
     "prompt_number": 15
    },
    {
     "cell_type": "markdown",
     "metadata": {
      "internals": {
       "frag_helper": "fragment_end",
       "frag_number": 47,
       "slide_helper": "subslide_end",
       "slide_type": "subslide"
      },
      "slide_helper": "slide_end",
      "slideshow": {
       "slide_type": "slide"
      }
     },
     "source": [
      "## Finally a realistic simulation\n",
      "\n",
      "![sys1](sys1.png)"
     ]
    },
    {
     "cell_type": "markdown",
     "metadata": {
      "internals": {
       "frag_helper": "fragment_end",
       "frag_number": 47,
       "slide_helper": "subslide_end",
       "slide_type": "subslide"
      },
      "slide_helper": "slide_end",
      "slideshow": {
       "slide_type": "slide"
      }
     },
     "source": [
      "## With self-tuning PID paramaters\n",
      "\n",
      "![sys2](sys2.png)"
     ]
    },
    {
     "cell_type": "markdown",
     "metadata": {
      "internals": {
       "frag_helper": "fragment_end",
       "frag_number": 47,
       "slide_helper": "subslide_end",
       "slide_type": "subslide"
      },
      "slide_helper": "slide_end",
      "slideshow": {
       "slide_type": "slide"
      }
     },
     "source": [
      "## Business Should Shape the Algorithm and its Learning\n",
      "\n",
      "1. Self-tuning systems can work well\n",
      "2. System specific safeguards are needed\n",
      "3. Slow servers causing data delays\n",
      "4. Raising and lowering threshold values are not symmetric business decisions\n",
      "5. Start carefully\n",
      "6. Check for bad behaviour\n",
      "7. Monitor systems"
     ]
    },
    {
     "cell_type": "markdown",
     "metadata": {
      "internals": {
       "frag_helper": "fragment_end",
       "frag_number": 47,
       "slide_helper": "subslide_end",
       "slide_type": "subslide"
      },
      "slide_helper": "slide_end",
      "slideshow": {
       "slide_type": "slide"
      }
     },
     "source": [
      "## Our production system\n",
      "\n",
      "![real_pid](real_pid.png)"
     ]
    },
    {
     "cell_type": "markdown",
     "metadata": {
      "internals": {
       "frag_helper": "fragment_end",
       "frag_number": 47,
       "slide_helper": "subslide_end",
       "slide_type": "subslide"
      },
      "slide_helper": "slide_end",
      "slideshow": {
       "slide_type": "slide"
      }
     },
     "source": [
      "# Thank You\n",
      "![logo](maxpoint.png)\n",
      "\n",
      "## #9 on Deloitte 2013 Technology Fast 500\u2122 Rankings\n",
      "\n",
      "### michael@maxpoint.com\n",
      "\n"
     ]
    }
   ],
   "metadata": {}
  }
 ]
}